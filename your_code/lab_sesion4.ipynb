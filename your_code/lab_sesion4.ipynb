{
  "cells": [
    {
      "cell_type": "markdown",
      "metadata": {
        "id": "KKFJYd2TULK6"
      },
      "source": [
        "## Palabras"
      ]
    },
    {
      "cell_type": "code",
      "execution_count": 8,
      "metadata": {
        "id": "jAGcRE7ZULK7"
      },
      "outputs": [],
      "source": [
        "words = ['play', 'filling', 'bar', 'theatre', 'easygoing', 'date', 'lead', 'that', 'story',  'island']"
      ]
    },
    {
      "cell_type": "markdown",
      "metadata": {
        "id": "Cn0O3EBcULK8"
      },
      "source": [
        "**Imprime todas las letras en mayuscula**"
      ]
    },
    {
      "cell_type": "code",
      "execution_count": 9,
      "metadata": {
        "colab": {
          "base_uri": "https://localhost:8080/"
        },
        "id": "uqINxNhBULK9",
        "outputId": "06bd2d0c-4b0c-4476-f671-f8785f2c3324"
      },
      "outputs": [
        {
          "output_type": "stream",
          "name": "stdout",
          "text": [
            "['PLAY', 'FILLING', 'BAR', 'THEATRE', 'EASYGOING', 'DATE', 'LEAD', 'THAT', 'STORY', 'ISLAND']\n"
          ]
        }
      ],
      "source": [
        "uppercase_words = [word.upper() for word in words]\n",
        "print(uppercase_words)"
      ]
    },
    {
      "cell_type": "markdown",
      "metadata": {
        "id": "TnTfbkJjULK-"
      },
      "source": [
        "**Crea una nueva lista que contenga 5 o más letras**"
      ]
    },
    {
      "cell_type": "code",
      "execution_count": 10,
      "metadata": {
        "colab": {
          "base_uri": "https://localhost:8080/"
        },
        "id": "orQ1hQHUULK_",
        "outputId": "78086dcd-5ecd-4593-946c-0f5eedaf18dc"
      },
      "outputs": [
        {
          "output_type": "stream",
          "name": "stdout",
          "text": [
            "['filling', 'theatre', 'easygoing', 'story', 'island']\n"
          ]
        }
      ],
      "source": [
        "long_words = [word for word in words if len(word) >= 5]\n",
        "print(long_words)\n",
        "\n",
        "## Otra opción sería:\n",
        "\n",
        "# words = ['play', 'filling', 'bar', 'theatre', 'easygoing', 'date', 'lead', 'that', 'story', 'island']\n",
        "\n",
        "#long_words = []\n",
        "#i = 0\n",
        "\n",
        "#while i < len(words):\n",
        "#    if len(words[i]) >= 5:\n",
        "#        long_words.append(words[i])\n",
        "#    i += 1\n",
        "\n",
        "#print(long_words)"
      ]
    },
    {
      "cell_type": "markdown",
      "metadata": {
        "id": "gO0YsaU7ULK_"
      },
      "source": [
        "**Imprime la primera palabra que empiece por 't'**"
      ]
    },
    {
      "cell_type": "code",
      "execution_count": 11,
      "metadata": {
        "colab": {
          "base_uri": "https://localhost:8080/"
        },
        "id": "v8EDNPH2ULLA",
        "outputId": "8a06a129-ff0e-471a-b7bc-2d24d56e9370"
      },
      "outputs": [
        {
          "output_type": "stream",
          "name": "stdout",
          "text": [
            "theatre\n"
          ]
        }
      ],
      "source": [
        "first_t_word = next((word for word in words if word.startswith('t')), None)\n",
        "print(first_t_word)\n",
        "\n",
        "## Otra opción sería:\n",
        "\n",
        "#i = 0\n",
        "#first_t_word = None\n",
        "\n",
        "#while i < len(words):\n",
        "#    if words[i].startswith('t'):\n",
        "#        first_t_word = words[i]\n",
        "#        break  # Detiene el bucle cuando encuentra la primera palabra con 't'\n",
        "#    i += 1\n",
        "\n",
        "#print(first_t_word)"
      ]
    },
    {
      "cell_type": "markdown",
      "metadata": {
        "id": "3-43d1q6ULLB"
      },
      "source": [
        "## Numeros"
      ]
    },
    {
      "cell_type": "markdown",
      "metadata": {
        "id": "inhrYtEPULLB"
      },
      "source": [
        "**Crea una lista que contenga el cuadraro de cada numero entre 1 y 10**"
      ]
    },
    {
      "cell_type": "code",
      "execution_count": 13,
      "metadata": {
        "colab": {
          "base_uri": "https://localhost:8080/"
        },
        "id": "d-arr2aVULLB",
        "outputId": "7a953e82-f5c9-449c-fc13-76ed8d169e7c"
      },
      "outputs": [
        {
          "output_type": "stream",
          "name": "stdout",
          "text": [
            "[1, 4, 9, 16, 25, 36, 49, 64, 81, 100]\n"
          ]
        }
      ],
      "source": [
        "cuadrados = [x**2 for x in range(1, 11)]\n",
        "print(cuadrados)"
      ]
    },
    {
      "cell_type": "markdown",
      "metadata": {
        "id": "8kcuU1ifULLC"
      },
      "source": [
        "**Imprime una lista que contenga el cuadrado de cada número impar del 1 al 10**"
      ]
    },
    {
      "cell_type": "code",
      "execution_count": 14,
      "metadata": {
        "colab": {
          "base_uri": "https://localhost:8080/"
        },
        "id": "oqfQPsjMULLC",
        "outputId": "4df6c959-c2cf-4448-8079-deaf74edca53"
      },
      "outputs": [
        {
          "output_type": "stream",
          "name": "stdout",
          "text": [
            "[1, 9, 25, 49, 81]\n"
          ]
        }
      ],
      "source": [
        "cuadrados_impares = [x**2 for x in range(1, 11) if x % 2 != 0]\n",
        "print(cuadrados_impares)"
      ]
    },
    {
      "cell_type": "markdown",
      "metadata": {
        "id": "yIDUUE5FULLC"
      },
      "source": [
        "**Crear una lista con los cuadrados de todos los múltiplos de 8 por debajo de 1000**"
      ]
    },
    {
      "cell_type": "code",
      "execution_count": 15,
      "metadata": {
        "colab": {
          "base_uri": "https://localhost:8080/"
        },
        "id": "vin3rGQ8ULLC",
        "outputId": "61e8f423-030b-4636-c3b7-e9feacbc7934"
      },
      "outputs": [
        {
          "output_type": "stream",
          "name": "stdout",
          "text": [
            "[64, 256, 576, 1024, 1600, 2304, 3136, 4096, 5184, 6400, 7744, 9216, 10816, 12544, 14400, 16384, 18496, 20736, 23104, 25600, 28224, 30976, 33856, 36864, 40000, 43264, 46656, 50176, 53824, 57600, 61504, 65536, 69696, 73984, 78400, 82944, 87616, 92416, 97344, 102400, 107584, 112896, 118336, 123904, 129600, 135424, 141376, 147456, 153664, 160000, 166464, 173056, 179776, 186624, 193600, 200704, 207936, 215296, 222784, 230400, 238144, 246016, 254016, 262144, 270400, 278784, 287296, 295936, 304704, 313600, 322624, 331776, 341056, 350464, 360000, 369664, 379456, 389376, 399424, 409600, 419904, 430336, 440896, 451584, 462400, 473344, 484416, 495616, 506944, 518400, 529984, 541696, 553536, 565504, 577600, 589824, 602176, 614656, 627264, 640000, 652864, 665856, 678976, 692224, 705600, 719104, 732736, 746496, 760384, 774400, 788544, 802816, 817216, 831744, 846400, 861184, 876096, 891136, 906304, 921600, 937024, 952576, 968256, 984064]\n"
          ]
        }
      ],
      "source": [
        "cuadrados_x8 = [x**2 for x in range(8, 1000, 8)]\n",
        "print(cuadrados_x8)"
      ]
    },
    {
      "cell_type": "markdown",
      "metadata": {
        "id": "kcPeo4AkULLD"
      },
      "source": [
        "## People"
      ]
    },
    {
      "cell_type": "code",
      "execution_count": 16,
      "metadata": {
        "id": "4-83lXdyULLD"
      },
      "outputs": [],
      "source": [
        "people = [\n",
        "    {\n",
        "        \"name\": \"Juan\",\n",
        "        \"age\": 34,\n",
        "        \"n_kids\": 2\n",
        "    },\n",
        "    {\n",
        "        \"name\": \"Pepe\",\n",
        "        \"age\": 27,\n",
        "        \"n_kids\": 0\n",
        "    },\n",
        "    {\n",
        "        \"name\": \"Sonia\",\n",
        "        \"age\": 41,\n",
        "        \"n_kids\": 1\n",
        "    },\n",
        "    {\n",
        "        \"name\": \"Lucía\",\n",
        "        \"age\": 22,\n",
        "        \"n_kids\": 2\n",
        "    },\n",
        "    {\n",
        "        \"name\": \"Leo\",\n",
        "        \"age\": 55,\n",
        "        \"n_kids\": 5\n",
        "    }\n",
        "]"
      ]
    },
    {
      "cell_type": "markdown",
      "metadata": {
        "id": "VUxnCLn_ULLD"
      },
      "source": [
        "**Cuánta gente hay?**"
      ]
    },
    {
      "cell_type": "code",
      "execution_count": 17,
      "metadata": {
        "colab": {
          "base_uri": "https://localhost:8080/"
        },
        "id": "xepJfnSWULLE",
        "outputId": "d8a6a8aa-9852-4072-aac6-64f08c31b8ba"
      },
      "outputs": [
        {
          "output_type": "stream",
          "name": "stdout",
          "text": [
            "5\n"
          ]
        }
      ],
      "source": [
        "num_people = len(people)\n",
        "print(num_people)"
      ]
    },
    {
      "cell_type": "markdown",
      "metadata": {
        "id": "pfhHztiHULLE"
      },
      "source": [
        "**Cuanta gente tiene hijos**?"
      ]
    },
    {
      "cell_type": "code",
      "execution_count": 18,
      "metadata": {
        "colab": {
          "base_uri": "https://localhost:8080/"
        },
        "id": "ofoqnQ9cULLE",
        "outputId": "c73732d8-a80f-4316-e726-14128a200ff5"
      },
      "outputs": [
        {
          "output_type": "stream",
          "name": "stdout",
          "text": [
            "4\n"
          ]
        }
      ],
      "source": [
        "people_with_kids = len([person for person in people if person['n_kids'] > 0])\n",
        "print(people_with_kids)"
      ]
    },
    {
      "cell_type": "markdown",
      "metadata": {
        "id": "rwJLZbvWULLE"
      },
      "source": [
        "**Cuantos hijos tienen en total?**"
      ]
    },
    {
      "cell_type": "code",
      "execution_count": 19,
      "metadata": {
        "colab": {
          "base_uri": "https://localhost:8080/"
        },
        "id": "hBqXjVezULLE",
        "outputId": "59e1bd10-e642-4273-f372-e6597d7a0bd8"
      },
      "outputs": [
        {
          "output_type": "stream",
          "name": "stdout",
          "text": [
            "10\n"
          ]
        }
      ],
      "source": [
        "total_kids = sum(person['n_kids'] for person in people)\n",
        "print(total_kids)"
      ]
    },
    {
      "cell_type": "markdown",
      "metadata": {
        "id": "RlEIUBkyULLE"
      },
      "source": [
        "**En un año, los nombres que terminen en \"a\" tendrán un niño extra. Crea una lista de diccionarios con la información de las personas en un año**"
      ]
    },
    {
      "cell_type": "code",
      "execution_count": 20,
      "metadata": {
        "colab": {
          "base_uri": "https://localhost:8080/"
        },
        "id": "u8REtcROULLE",
        "outputId": "330c3f18-3976-4dde-d8a5-675883b78f1e"
      },
      "outputs": [
        {
          "output_type": "stream",
          "name": "stdout",
          "text": [
            "[{'name': 'Juan', 'age': 34, 'n_kids': 2}, {'name': 'Pepe', 'age': 27, 'n_kids': 0}, {'name': 'Sonia', 'age': 41, 'n_kids': 2}, {'name': 'Lucía', 'age': 22, 'n_kids': 3}, {'name': 'Leo', 'age': 55, 'n_kids': 5}]\n"
          ]
        }
      ],
      "source": [
        "people_next_year = [\n",
        "    {**person, \"n_kids\": person[\"n_kids\"] + 1} if person[\"name\"].endswith(\"a\") else person\n",
        "    for person in people\n",
        "]\n",
        "\n",
        "print(people_next_year)"
      ]
    }
  ],
  "metadata": {
    "kernelspec": {
      "display_name": "Python 3 (ipykernel)",
      "language": "python",
      "name": "python3"
    },
    "language_info": {
      "codemirror_mode": {
        "name": "ipython",
        "version": 3
      },
      "file_extension": ".py",
      "mimetype": "text/x-python",
      "name": "python",
      "nbconvert_exporter": "python",
      "pygments_lexer": "ipython3",
      "version": "3.9.13"
    },
    "toc": {
      "base_numbering": 1,
      "nav_menu": {},
      "number_sections": false,
      "sideBar": true,
      "skip_h1_title": false,
      "title_cell": "Table of Contents",
      "title_sidebar": "Contents",
      "toc_cell": false,
      "toc_position": {},
      "toc_section_display": true,
      "toc_window_display": true
    },
    "varInspector": {
      "cols": {
        "lenName": 16,
        "lenType": 16,
        "lenVar": 40
      },
      "kernels_config": {
        "python": {
          "delete_cmd_postfix": "",
          "delete_cmd_prefix": "del ",
          "library": "var_list.py",
          "varRefreshCmd": "print(var_dic_list())"
        },
        "r": {
          "delete_cmd_postfix": ") ",
          "delete_cmd_prefix": "rm(",
          "library": "var_list.r",
          "varRefreshCmd": "cat(var_dic_list()) "
        }
      },
      "types_to_exclude": [
        "module",
        "function",
        "builtin_function_or_method",
        "instance",
        "_Feature"
      ],
      "window_display": false
    },
    "vscode": {
      "interpreter": {
        "hash": "aee8b7b246df8f9039afb4144a1f6fd8d2ca17a180786b69acc140d282b71a49"
      }
    },
    "colab": {
      "provenance": []
    }
  },
  "nbformat": 4,
  "nbformat_minor": 0
}